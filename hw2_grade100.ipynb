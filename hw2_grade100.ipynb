{
 "cells": [
  {
   "cell_type": "markdown",
   "metadata": {
    "nbgrader": {
     "grade": false,
     "grade_id": "cell-6bd0516e7cb654f5",
     "locked": true,
     "schema_version": 1,
     "solution": false
    }
   },
   "source": [
    "# Exercise 2: Decision Trees\n",
    "\n",
    "In this assignment you will implement a Decision Tree algorithm as learned in class.\n",
    "\n",
    "## Read the following instructions carefully:\n",
    "\n",
    "1. This jupyter notebook contains all the step by step instructions needed for this exercise.\n",
    "1. Submission includes this notebook only with the exercise number and your ID as the filename. For example: `hw2_123456789_987654321.ipynb` if you submitted in pairs and `hw2_123456789.ipynb` if you submitted the exercise alone.\n",
    "1. Write **efficient vectorized** code whenever possible. Some calculations in this exercise take several minutes when implemented efficiently, and might take much longer otherwise. Unnecessary loops will result in point deduction.\n",
    "1. You are responsible for the correctness of your code and should add as many tests as you see fit. Tests will not be graded nor checked.\n",
    "1. Write your functions in this notebook only. **Do not create Python modules and import them**.\n",
    "1. You are allowed to use functions and methods from the [Python Standard Library](https://docs.python.org/3/library/) and [numpy](https://www.numpy.org/devdocs/reference/) only. **Do not import anything else.**\n",
    "1. Your code must run without errors. Make sure your `numpy` version is at least 1.15.4 and that you are using at least python 3.6. Changes of the configuration we provided are at your own risk. Any code that cannot run will not be graded.\n",
    "1. Write your own code. Cheating will not be tolerated.\n",
    "1. Answers to qualitative questions should be written in **markdown** cells (with $\\LaTeX$ support). Answers that will be written in commented code blocks will not be checked.\n",
    "\n",
    "## In this exercise you will perform the following:\n",
    "1. Practice OOP in python.\n",
    "2. Implement two impurity measures: Gini and Entropy.\n",
    "3. Construct a decision tree algorithm.\n",
    "4. Prune the tree to achieve better results.\n",
    "5. Visualize your results."
   ]
  },
  {
   "cell_type": "markdown",
   "metadata": {},
   "source": [
    "# I have read and understood the instructions:  \n",
    "# 806646 - Omri Newman "
   ]
  },
  {
   "cell_type": "code",
   "execution_count": 104,
   "metadata": {
    "nbgrader": {
     "grade": false,
     "grade_id": "cell-ed9fe7b1026e33cb",
     "locked": true,
     "schema_version": 1,
     "solution": false
    }
   },
   "outputs": [],
   "source": [
    "import numpy as np\n",
    "import pandas as pd\n",
    "import matplotlib.pyplot as plt\n",
    "\n",
    "# make matplotlib figures appear inline in the notebook\n",
    "%matplotlib inline\n",
    "plt.rcParams['figure.figsize'] = (10.0, 8.0) # set default size of plots\n",
    "plt.rcParams['image.interpolation'] = 'nearest'\n",
    "plt.rcParams['image.cmap'] = 'gray'\n",
    "\n",
    "# Ignore warnings\n",
    "import warnings\n",
    "warnings.filterwarnings('ignore')"
   ]
  },
  {
   "cell_type": "markdown",
   "metadata": {
    "nbgrader": {
     "grade": false,
     "grade_id": "cell-c6ac605270c2b091",
     "locked": true,
     "schema_version": 1,
     "solution": false
    }
   },
   "source": [
    "## Warmup - OOP in python\n",
    "\n",
    "Our desicion tree will be implemented using a dedicated python class. Python classes are very similar to classes in Java.\n",
    "\n",
    "\n",
    "You can use the following [site](https://jeffknupp.com/blog/2014/06/18/improve-your-python-python-classes-and-object-oriented-programming/) to learn about classes in python."
   ]
  },
  {
   "cell_type": "code",
   "execution_count": 105,
   "metadata": {},
   "outputs": [],
   "source": [
    "class Node(object):\n",
    "    def __init__(self, data):\n",
    "        self.data = data\n",
    "        self.children = []\n",
    "\n",
    "    def add_child(self, node):\n",
    "        self.children.append(node)"
   ]
  },
  {
   "cell_type": "code",
   "execution_count": 106,
   "metadata": {},
   "outputs": [
    {
     "data": {
      "text/plain": [
       "[<__main__.Node at 0x2178988a548>, <__main__.Node at 0x217899829c8>]"
      ]
     },
     "execution_count": 106,
     "metadata": {},
     "output_type": "execute_result"
    }
   ],
   "source": [
    "n = Node(5)\n",
    "p = Node(6)\n",
    "q = Node(7)\n",
    "n.add_child(p)\n",
    "n.add_child(q)\n",
    "n.children"
   ]
  },
  {
   "cell_type": "markdown",
   "metadata": {
    "nbgrader": {
     "grade": false,
     "grade_id": "cell-2f1ceb251c649b62",
     "locked": true,
     "schema_version": 1,
     "solution": false
    }
   },
   "source": [
    "## Data preprocessing\n",
    "\n",
    "For the following exercise, we will use a dataset containing mushroom data `agaricus-lepiota.csv`. \n",
    "\n",
    "This data set includes descriptions of hypothetical samples corresponding to 23 species of gilled mushrooms in the Agaricus and Lepiota Family. Each species is identified as definitely edible, definitely poisonous, or of unknown edibility and not recommended. This latter class was combined with the poisonous\n",
    "one (=there are only two classes **edible** and **poisonous**). \n",
    "    \n",
    "The dataset contains 8124 observations with 22 features:\n",
    "1. cap-shape: bell=b,conical=c,convex=x,flat=f,knobbed=k,sunken=s\n",
    "2. cap-surface: fibrous=f,grooves=g,scaly=y,smooth=s\n",
    "3. cap-color: brown=n,buff=b,cinnamon=c,gray=g,green=r,pink=p,purple=u,red=e,white=w,yellow=y\n",
    "4. bruises: bruises=t,no=f\n",
    "5. odor: almond=a,anise=l,creosote=c,fishy=y,foul=f, musty=m,none=n,pungent=p,spicy=s\n",
    "6. gill-attachment: attached=a,descending=d,free=f,notched=n\n",
    "7. gill-spacing: close=c,crowded=w,distant=d\n",
    "8. gill-size: broad=b,narrow=n\n",
    "9. gill-color: black=k,brown=n,buff=b,chocolate=h,gray=g,green=r,orange=o,pink=p,purple=u,red=e,white=w,yellow=y\n",
    "10. stalk-shape: enlarging=e,tapering=t\n",
    "11. stalk-root: bulbous=b,club=c,cup=u,equal=e,rhizomorphs=z,rooted=r\n",
    "12. stalk-surface-above-ring: fibrous=f,scaly=y,silky=k,smooth=s\n",
    "13. stalk-surface-below-ring: fibrous=f,scaly=y,silky=k,smooth=s\n",
    "14. stalk-color-above-ring: brown=n,buff=b,cinnamon=c,gray=g,orange=o,pink=p,red=e,white=w,yellow=y\n",
    "15. stalk-color-below-ring: brown=n,buff=b,cinnamon=c,gray=g,orange=o,pink=p,red=e,white=w,yellow=y\n",
    "16. veil-type: partial=p,universal=u\n",
    "17. veil-color: brown=n,orange=o,white=w,yellow=y\n",
    "18. ring-number: none=n,one=o,two=t\n",
    "19. ring-type: cobwebby=c,evanescent=e,flaring=f,large=l,none=n,pendant=p,sheathing=s,zone=z\n",
    "20. spore-print-color: black=k,brown=n,buff=b,chocolate=h,green=r,orange=o,purple=u,white=w,yellow=y\n",
    "21. population: abundant=a,clustered=c,numerous=n,scattered=s,several=v,solitary=y\n",
    "22. habitat: grasses=g,leaves=l,meadows=m,paths=p,urban=u,waste=w,woods=d\n",
    "\n",
    "First, we will read and explore the data using pandas and the `.read_csv` method. Pandas is an open source library providing high-performance, easy-to-use data structures and data analysis tools for the Python programming language."
   ]
  },
  {
   "cell_type": "code",
   "execution_count": 107,
   "metadata": {
    "nbgrader": {
     "grade": false,
     "grade_id": "cell-d79cb4542926ad3f",
     "locked": true,
     "schema_version": 1,
     "solution": false
    }
   },
   "outputs": [],
   "source": [
    "# load dataset\n",
    "data = pd.read_csv('agaricus-lepiota.csv')"
   ]
  },
  {
   "cell_type": "markdown",
   "metadata": {},
   "source": [
    "One of the advantages of the Decision Tree algorithm is that almost no preprocessing is required. However, finding missing values is always required."
   ]
  },
  {
   "cell_type": "code",
   "execution_count": 108,
   "metadata": {},
   "outputs": [
    {
     "data": {
      "text/plain": [
       "cap-shape                   0\n",
       "cap-surface                 0\n",
       "cap-color                   0\n",
       "bruises                     0\n",
       "odor                        0\n",
       "gill-attachment             0\n",
       "gill-spacing                0\n",
       "gill-size                   0\n",
       "gill-color                  0\n",
       "stalk-shape                 0\n",
       "stalk-surface-above-ring    0\n",
       "stalk-surface-below-ring    0\n",
       "stalk-color-above-ring      0\n",
       "stalk-color-below-ring      0\n",
       "veil-type                   0\n",
       "veil-color                  0\n",
       "ring-number                 0\n",
       "ring-type                   0\n",
       "spore-print-color           0\n",
       "population                  0\n",
       "habitat                     0\n",
       "class                       0\n",
       "dtype: int64"
      ]
     },
     "execution_count": 108,
     "metadata": {},
     "output_type": "execute_result"
    }
   ],
   "source": [
    "data.isnull().sum()"
   ]
  },
  {
   "cell_type": "markdown",
   "metadata": {},
   "source": [
    "We will split the dataset to `Training` and `Testing` datasets."
   ]
  },
  {
   "cell_type": "code",
   "execution_count": 109,
   "metadata": {},
   "outputs": [
    {
     "name": "stdout",
     "output_type": "stream",
     "text": [
      "Training dataset shape:  (6093, 22)\n",
      "Testing dataset shape:  (2031, 22)\n"
     ]
    }
   ],
   "source": [
    "from sklearn.model_selection import train_test_split\n",
    "# Making sure the last column will hold the labels\n",
    "X, y = data.drop('class', axis=1), data['class']\n",
    "X = np.column_stack([X,y])\n",
    "# split dataset using random_state to get the same split each time\n",
    "X_train, X_test = train_test_split(X, random_state=99)\n",
    "\n",
    "print(\"Training dataset shape: \", X_train.shape)\n",
    "print(\"Testing dataset shape: \", X_test.shape)"
   ]
  },
  {
   "cell_type": "code",
   "execution_count": 110,
   "metadata": {},
   "outputs": [
    {
     "data": {
      "text/plain": [
       "(8124,)"
      ]
     },
     "execution_count": 110,
     "metadata": {},
     "output_type": "execute_result"
    }
   ],
   "source": [
    "y.shape"
   ]
  },
  {
   "cell_type": "markdown",
   "metadata": {
    "nbgrader": {
     "grade": false,
     "grade_id": "cell-fd7b0191f3f1e897",
     "locked": true,
     "schema_version": 1,
     "solution": false
    }
   },
   "source": [
    "## Impurity Measures\n",
    "\n",
    "Impurity is a measure of how often a randomly chosen element from the set would be incorrectly labeled if it was randomly labeled according to the distribution of labels in the subset. Implement the functions `calc_gini` and `calc_entropy`. You are encouraged to test your implementation (10 points)."
   ]
  },
  {
   "cell_type": "code",
   "execution_count": 111,
   "metadata": {},
   "outputs": [],
   "source": [
    "def calc_gini(data):\n",
    "    \"\"\"\n",
    "    Calculate gini impurity measure of a dataset.\n",
    " \n",
    "    Input:\n",
    "    - data: any dataset where the last column holds the labels.\n",
    " \n",
    "    Returns the gini impurity.    \n",
    "    \"\"\"\n",
    "    gini = 0.0\n",
    "    \n",
    "    l = data.shape[0]\n",
    "    labels = data[:,-1] # get the labels from the last column \n",
    "    # calculate impurity \n",
    "    probs = np.unique(labels, return_counts=True)[1] / l\n",
    "    \n",
    "    gini = 1 - (probs ** 2).sum()\n",
    "    \n",
    "    return gini"
   ]
  },
  {
   "cell_type": "code",
   "execution_count": 112,
   "metadata": {},
   "outputs": [
    {
     "data": {
      "text/plain": [
       "0.4995636322379775"
      ]
     },
     "execution_count": 112,
     "metadata": {},
     "output_type": "execute_result"
    }
   ],
   "source": [
    "def _gini(data):\n",
    "    return 1 - ((data.iloc[:,-1].value_counts().values / len(data)) ** 2).sum()\n",
    "_gini(data)"
   ]
  },
  {
   "cell_type": "code",
   "execution_count": 113,
   "metadata": {},
   "outputs": [],
   "source": [
    "def calc_entropy(data):\n",
    "    \"\"\"\n",
    "    Calculate the entropy of a dataset.\n",
    "\n",
    "    Input:\n",
    "    - data: any dataset where the last column holds the labels.\n",
    "\n",
    "    Returns the entropy of the dataset.    \n",
    "    \"\"\"\n",
    "    entropy = 0.0\n",
    "    labels = data[:,-1] # get the labels from the last column \n",
    "    probs = np.unique(labels, return_counts=True)[1] / len(data)\n",
    "    \n",
    "    # calculate entropy\n",
    "    entropy = -(probs * np.log2(probs)).sum()\n",
    "    return entropy"
   ]
  },
  {
   "cell_type": "code",
   "execution_count": 114,
   "metadata": {
    "scrolled": true
   },
   "outputs": [
    {
     "data": {
      "text/plain": [
       "(0.4995636322379775, 0.9993703627906085)"
      ]
     },
     "execution_count": 114,
     "metadata": {},
     "output_type": "execute_result"
    }
   ],
   "source": [
    "##### Your Tests Here #####\n",
    "calc_gini(X), calc_entropy(X)"
   ]
  },
  {
   "cell_type": "markdown",
   "metadata": {},
   "source": [
    "## Goodness of Split\n",
    "\n",
    "Given a feature the Goodnees of Split measures the reduction in the impurity if we split the data according to the feature.\n",
    "$$\n",
    "\\Delta\\varphi(S, A) = \\varphi(S) - \\sum_{v\\in Values(A)} \\frac{|S_v|}{|S|}\\varphi(S_v)\n",
    "$$\n",
    "\n",
    "In our implementation the goodness_of_split function will return either the Goodness of Split or the Gain Ratio as learned in class. You'll control the return value with the `gain_ratio` parameter. If this parameter will set to False (the default value) it will return the regular Goodness of Split. If it will set to True it will return the Gain Ratio.\n",
    "$$\n",
    "GainRatio(S,A)=\\frac{InformationGain(S,A)}{SplitInformation(S,A)}\n",
    "$$\n",
    "Where:\n",
    "$$\n",
    "InformationGain(S,A)=Goodness\\ of\\ Split\\ calculated\\ with\\ Entropy\\ as\\ the\\ Impurity\\ function \\\\\n",
    "SplitInformation(S,A)=- \\sum_{a\\in A} \\frac{|S_a|}{|S|}\\log\\frac{|S_a|}{|S|}\n",
    "$$\n",
    "NOTE: you can add more parameters to the function and you can also add more returning variables (The given parameters and the given returning variable should not be touch). (10 Points)"
   ]
  },
  {
   "cell_type": "code",
   "execution_count": 115,
   "metadata": {},
   "outputs": [],
   "source": [
    "def goodness_of_split(data, feature, impurity_func, gain_ratio=False):\n",
    "    \"\"\"\n",
    "    Calculate the goodness of split of a dataset given a feature and impurity function.\n",
    "\n",
    "    Input:\n",
    "    - data: any dataset where the last column holds the labels.\n",
    "    - feature: the feature index.\n",
    "    - impurity func: a function that calculates the impurity.\n",
    "    - gain_ratio: goodness of split or gain ratio flag.\n",
    "\n",
    "    Returns the goodness of split (or the Gain Ration).  \n",
    "    \"\"\"\n",
    "    before_split = impurity_func(data)\n",
    "    for entry in  np.unique(data[:,feature]):\n",
    "        tot = data[data[:,feature] == entry]\n",
    "        before_split -= (tot.shape[0]/data.shape[0])*impurity_func(tot)\n",
    "    if gain_ratio:\n",
    "        before_split = before_split/calc_entropy(data[:,[0, feature]])\n",
    "    return before_split"
   ]
  },
  {
   "cell_type": "markdown",
   "metadata": {},
   "source": [
    "## Building a Decision Tree\n",
    "\n",
    "Use a Python class to construct the decision tree. Your class should support the following functionality:\n",
    "\n",
    "1. Initiating a node for a decision tree. You will need to use several class methods and class attributes and you are free to use them as you see fit. We recommend that every node will hold the feature and value used for the split and its children.\n",
    "2. Your code should support both Gini and Entropy as impurity measures. \n",
    "3. The provided data includes categorical data. In this exercise, when splitting a node create the number of children needed according to the attribute unique values.\n",
    "\n",
    "Complete the class `DecisionNode`. The structure of this class is entirely up to you. \n",
    "\n",
    "Complete the function `build_tree`. This function should get the training dataset and the impurity as inputs, initiate a root for the decision tree and construct the tree according to the procedure you learned in class. (30 points)"
   ]
  },
  {
   "cell_type": "code",
   "execution_count": 116,
   "metadata": {},
   "outputs": [],
   "source": [
    "class DecisionNode:\n",
    "    \"\"\"\n",
    "    This class will hold everything you require to construct a decision tree.\n",
    "    The structure of this class is up to you. However, you need to support basic \n",
    "    functionality as described above. It is highly recommended that you \n",
    "    first read and understand the entire exercise before diving into this class.\n",
    "    \"\"\"\n",
    "\n",
    "    def __init__(self, feature='leaf', came_from =\"\", parent = 'ROOT'):\n",
    "        self.children = {}\n",
    "        self.feature = feature \n",
    "        self.parent = parent\n",
    "        self.came_from = came_from\n",
    "        self.pred = ''\n",
    "        self.labels = {}\n",
    "        \n",
    "    def add_child(self, node, feature):\n",
    "        self.children[feature] = node\n",
    "        \n",
    "    def new_labels(self, labels):\n",
    "        self.labels = labels\n",
    "        self.pred = max(labels, key=labels.get)\n",
    "        "
   ]
  },
  {
   "cell_type": "code",
   "execution_count": 117,
   "metadata": {},
   "outputs": [],
   "source": [
    "def find_max_goodness(data, impurity_func, gain_ratio):\n",
    "    max_good = 0\n",
    "    max_feature = 0\n",
    "    for feature in range(data.shape[1]-1):\n",
    "        if len(np.unique(data[:,feature])) == 1:\n",
    "            continue\n",
    "        goodness = goodness_of_split(data, feature, impurity_func, gain_ratio)\n",
    "        if goodness > max_good:\n",
    "            max_good = goodness\n",
    "            max_feature = feature\n",
    "    return max_feature, max_good\n",
    "    # return f\"feature {i} has max goodness {max_good}\""
   ]
  },
  {
   "cell_type": "code",
   "execution_count": 118,
   "metadata": {},
   "outputs": [
    {
     "data": {
      "text/plain": [
       "(4, 0.49516949727436654)"
      ]
     },
     "execution_count": 118,
     "metadata": {},
     "output_type": "execute_result"
    }
   ],
   "source": [
    "find_max_goodness(X, calc_entropy, gain_ratio=False)"
   ]
  },
  {
   "cell_type": "code",
   "execution_count": 119,
   "metadata": {},
   "outputs": [],
   "source": [
    "def build_tree(data, impurity, gain_ratio=False, min_samples_split=1, max_depth=1000):\n",
    "    \"\"\"\n",
    "    Build a tree using the given impurity measure and training dataset. \n",
    "    You are required to fully grow the tree until all leaves are pure. \n",
    "\n",
    "    Input:\n",
    "    - data: the training dataset.\n",
    "    - impurity: the chosen impurity measure. Notice that you can send a function\n",
    "                as an argument in python.\n",
    "    - gain_ratio: goodness of split or gain ratio flag\n",
    "    - min_samples_split: the minimum number of samples required to split an internal node\n",
    "    - max_depth: the allowable depth of the tree\n",
    "\n",
    "    Output: the root node of the tree.\n",
    "    \"\"\"\n",
    "    root = DecisionNode()\n",
    "    # get labels based on majority of classes\n",
    "    labels_unique, labels_counts = np.unique(data[:,-1], return_counts=True)\n",
    "    root.new_labels(dict(zip(labels_unique, labels_counts)))\n",
    "    \n",
    "    if len(labels_unique) == 1:\n",
    "        return root\n",
    "    elif max_depth == 0:\n",
    "            return root\n",
    "    \n",
    "    best_attr_idx = find_max_goodness(data, impurity, gain_ratio)[0]\n",
    "    root.feature = best_attr_idx\n",
    "\n",
    "    for value in np.unique(data[:,best_attr_idx]):\n",
    "        # print(\"feature\")\n",
    "        # print(best_attr_idx)\n",
    "        # print(\"val\")\n",
    "        # print(value)\n",
    "        sub = data[data[:,best_attr_idx]== value]\n",
    "        \n",
    "        # exit iteration if doesn't have min number samples to split\n",
    "        if sub.shape[0] < min_samples_split:\n",
    "            continue\n",
    "        \n",
    "        # recursively build tree\n",
    "        child = build_tree(sub, impurity, gain_ratio, min_samples_split, max_depth-1)\n",
    "        child.parent = best_attr_idx\n",
    "        child.came_from = value\n",
    "        root.add_child(child, value)\n",
    "    return root\n"
   ]
  },
  {
   "cell_type": "code",
   "execution_count": 120,
   "metadata": {},
   "outputs": [],
   "source": [
    "# python supports passing a function as an argument to another function.\n",
    "tree_gini = build_tree(data=X_train, impurity=calc_gini) # gini and goodness of split\n",
    "tree_entropy = build_tree(data=X_train, impurity=calc_entropy) # entropy and goodness of split\n",
    "tree_entropy_gain_ratio = build_tree(data=X_train, impurity=calc_entropy, gain_ratio=True) # entropy and gain ratio"
   ]
  },
  {
   "cell_type": "markdown",
   "metadata": {},
   "source": [
    "## Tree evaluation\n",
    "\n",
    "Complete the functions `predict` and `calc_accuracy`. (10 points)"
   ]
  },
  {
   "cell_type": "code",
   "execution_count": 121,
   "metadata": {},
   "outputs": [],
   "source": [
    "def predict(node, instance):\n",
    "    \"\"\"\n",
    "    Predict a given instance using the decision tree\n",
    " \n",
    "    Input:\n",
    "    - root: the root of the decision tree.\n",
    "    - instance: an row vector from the dataset. Note that the last element \n",
    "                of this vector is the label of the instance.\n",
    " \n",
    "    Output: the prediction of the instance.\n",
    "    \"\"\"\n",
    "    \n",
    "    while instance[node.feature] in node.children.keys():\n",
    "        split = node.feature\n",
    "        instance_at_split = instance[split]\n",
    "        \n",
    "        node = node.children[instance_at_split]\n",
    "        if node.feature =='leaf':\n",
    "            return node.pred\n",
    "\n",
    "    return node.pred"
   ]
  },
  {
   "cell_type": "code",
   "execution_count": 122,
   "metadata": {},
   "outputs": [],
   "source": [
    "def calc_accuracy(node, dataset):\n",
    "    \"\"\"\n",
    "    Predict a given dataset using the decision tree\n",
    " \n",
    "    Input:\n",
    "    - node: a node in the decision tree.\n",
    "    - dataset: the dataset on which the accuracy is evaluated\n",
    " \n",
    "    Output: the accuracy of the decision tree on the given dataset (%).\n",
    "    \"\"\"\n",
    "    accuracy = 0\n",
    "    tp = 0\n",
    "    for instance in dataset:\n",
    "        pred = predict(node, instance)\n",
    "        correct = int(pred==instance[-1])\n",
    "        tp += correct\n",
    "    accuracy = (tp/len(dataset))*100\n",
    "    return accuracy "
   ]
  },
  {
   "cell_type": "markdown",
   "metadata": {},
   "source": [
    "After building the three trees using the training set, you should calculate the accuracy on the test set. For each tree print the training and test accuracy. Select the tree that gave you the best test accuracy. For the rest of the exercise, use that tree (when you asked to build another tree use the same impurity function and same gain_ratio flag). "
   ]
  },
  {
   "cell_type": "code",
   "execution_count": 123,
   "metadata": {},
   "outputs": [
    {
     "name": "stdout",
     "output_type": "stream",
     "text": [
      "Gini tree:\n",
      "Train: 99.37633349745609\n",
      "Test: 77.5972427375677\n",
      "\n",
      "Entropy tree:\n",
      "Train: 99.50763170851798\n",
      "Test: 77.20334810438207\n",
      "\n",
      "Gini tree:\n",
      "Train: 99.80305268340719\n",
      "Test: 78.48350566223536\n"
     ]
    }
   ],
   "source": [
    "print('Gini tree:')\n",
    "print(f\"Train: {calc_accuracy(tree_gini, X_train)}\")\n",
    "print(f\"Test: {calc_accuracy(tree_gini, X_test)}\\n\")\n",
    "\n",
    "print('Entropy tree:')\n",
    "print(f\"Train: {calc_accuracy(tree_entropy, X_train)}\")\n",
    "print(f\"Test: {calc_accuracy(tree_entropy, X_test)}\\n\")\n",
    "\n",
    "\n",
    "print('Gini tree:')\n",
    "print(f\"Train: {calc_accuracy(tree_entropy_gain_ratio, X_train)}\")\n",
    "print(f\"Test: {calc_accuracy(tree_entropy_gain_ratio, X_test)}\")"
   ]
  },
  {
   "cell_type": "markdown",
   "metadata": {},
   "source": [
    "## Depth pruning\n",
    "\n",
    "(15 points)\n",
    "\n",
    "Consider the following max_depth values: [1, 2, 3, 4, 5, 6, 7, 8]. For each value, construct a tree and prune it according to the max_depth value = don't let the tree to grow beyond this depth. Next, calculate the training and testing accuracy.<br>\n",
    "On a single plot, draw the training and testing accuracy as a function of the max_depth. Mark the best result on the graph with red circle."
   ]
  },
  {
   "cell_type": "code",
   "execution_count": 125,
   "metadata": {},
   "outputs": [],
   "source": [
    "max_depth_values = [1, 2, 3, 4, 5, 6, 7, 8]\n",
    "\n",
    "accuracies_train_depth=[]\n",
    "accuracies_test_depth=[]\n",
    "\n",
    "for depth in max_depth_values:\n",
    "    tree = build_tree(X_train, calc_entropy, max_depth=depth, gain_ratio=True)\n",
    "    \n",
    "    accuracy_train = calc_accuracy(tree, X_train)\n",
    "    accuracies_train_depth.append(accuracy_train)\n",
    "    \n",
    "    accuracy_test = calc_accuracy(tree, X_test)\n",
    "    accuracies_test_depth.append(accuracy_test)\n",
    "    \n",
    "best_tree_ind_depth = np.argmax(accuracies_test_depth)"
   ]
  },
  {
   "cell_type": "code",
   "execution_count": 127,
   "metadata": {},
   "outputs": [
    {
     "data": {
      "text/plain": [
       "<matplotlib.legend.Legend at 0x2178be9d848>"
      ]
     },
     "execution_count": 127,
     "metadata": {},
     "output_type": "execute_result"
    },
    {
     "data": {
      "image/png": "[encoded data removed]",
      "text/plain": [
       "<Figure size 720x576 with 1 Axes>"
      ]
     },
     "metadata": {
      "needs_background": "light"
     },
     "output_type": "display_data"
    }
   ],
   "source": [
    "plt.plot(max_depth_values, accuracies_train_depth, label='Train')\n",
    "plt.plot(max_depth_values, accuracies_test_depth, label=\"Test\")\n",
    "\n",
    "plt.scatter(max_depth_values[best_tree_ind_depth], accuracies_test_depth[best_tree_ind_depth], color=\"r\", label=\"Best Tree\", linewidths=10)\n",
    "\n",
    "plt.xlabel('Maximum Depth')\n",
    "plt.ylabel('Accuracy')\n",
    "plt.title('Decision Tree Accuracy for Different Maximum Depth Values')\n",
    "plt.legend()"
   ]
  },
  {
   "cell_type": "markdown",
   "metadata": {},
   "source": [
    "## Min Samples Split\n",
    "\n",
    "(15 points)\n",
    "\n",
    "Consider the following min_samples_split values: [1, 5, 10, 20, 50]. For each value, construct a tree and prune it according to the min_samples_split value = don't split a node if the number of sample in it is less or equal to the min_samples_split value. Next, calculate the training and testing accuracy.<br>\n",
    "On a single plot, draw the training and testing accuracy as a function of the min_samples_split. Mark the best result on the graph with red circle. (make sure that the x-axis ticks represent the values of min_samples_split)"
   ]
  },
  {
   "cell_type": "code",
   "execution_count": 129,
   "metadata": {},
   "outputs": [],
   "source": [
    "min_samples_split_values = [1, 5, 10, 20, 50]\n",
    "\n",
    "accuracies_train_split=[]\n",
    "accuracies_test_split=[]\n",
    "\n",
    "for split in min_samples_split_values:\n",
    "    tree = build_tree(X_train, calc_entropy, min_samples_split=split, gain_ratio=True)\n",
    "    \n",
    "    accuracy_train = calc_accuracy(tree, X_train)\n",
    "    accuracies_train_split.append(accuracy_train)\n",
    "    \n",
    "    accuracy_test = calc_accuracy(tree, X_test)\n",
    "    accuracies_test_split.append(accuracy_test)\n",
    "    \n",
    "best_tree_ind_split = np.argmax(accuracies_test_split)"
   ]
  },
  {
   "cell_type": "code",
   "execution_count": 130,
   "metadata": {},
   "outputs": [
    {
     "data": {
      "text/plain": [
       "<matplotlib.legend.Legend at 0x2178beb7cc8>"
      ]
     },
     "execution_count": 130,
     "metadata": {},
     "output_type": "execute_result"
    },
    {
     "data": {
      "image/png": "[encoded data removed]",
      "text/plain": [
       "<Figure size 720x576 with 1 Axes>"
      ]
     },
     "metadata": {
      "needs_background": "light"
     },
     "output_type": "display_data"
    }
   ],
   "source": [
    "plt.plot(min_samples_split_values, accuracies_train_split, label='Train')\n",
    "plt.plot(min_samples_split_values, accuracies_test_split, label=\"Test\")\n",
    "\n",
    "plt.scatter(min_samples_split_values[best_tree_ind_split], accuracies_test_split[best_tree_ind_split], color=\"r\", label=\"Best Tree\", linewidths=10)\n",
    "\n",
    "plt.xlabel('Minimum Split')\n",
    "plt.ylabel('Accuracy')\n",
    "plt.title('Decision Tree Accuracy for Different Minimum Split Values')\n",
    "plt.legend()"
   ]
  },
  {
   "cell_type": "markdown",
   "metadata": {},
   "source": [
    "Build the best 2 trees:\n",
    "1. tree_max_depth - the best tree according to max_depth pruning\n",
    "1. tree_min_samples_split - the best tree according to min_samples_split pruning"
   ]
  },
  {
   "cell_type": "code",
   "execution_count": 131,
   "metadata": {},
   "outputs": [],
   "source": [
    "tree_max_depth = build_tree(X_train, calc_entropy, True, max_depth=max_depth_values[best_tree_ind_depth])\n",
    "tree_min_samples_split = build_tree(X_train, calc_entropy, True, min_samples_split=min_samples_split_values[best_tree_ind_split])"
   ]
  },
  {
   "cell_type": "markdown",
   "metadata": {},
   "source": [
    "## Number of Nodes\n",
    "\n",
    "(5 points)\n",
    "\n",
    "Complete the function counts_nodes and print the number of nodes in each tree and print the number of nodes of the two trees above"
   ]
  },
  {
   "cell_type": "code",
   "execution_count": 132,
   "metadata": {},
   "outputs": [],
   "source": [
    "def count_nodes(node):\n",
    "    \"\"\"\n",
    "    Count the number of node in a given tree\n",
    " \n",
    "    Input:\n",
    "    - node: a node in the decision tree.\n",
    " \n",
    "    Output: the number of node in the tree.\n",
    "    \"\"\"\n",
    "    count = 0\n",
    "    for child in node.children:\n",
    "        count += count_nodes(node.children[child])\n",
    "    return count + 1"
   ]
  },
  {
   "cell_type": "code",
   "execution_count": 133,
   "metadata": {},
   "outputs": [
    {
     "data": {
      "text/plain": [
       "205"
      ]
     },
     "execution_count": 133,
     "metadata": {},
     "output_type": "execute_result"
    }
   ],
   "source": [
    "count_nodes(tree_max_depth)"
   ]
  },
  {
   "cell_type": "code",
   "execution_count": 134,
   "metadata": {},
   "outputs": [
    {
     "name": "stdout",
     "output_type": "stream",
     "text": [
      "Number of nodes in best maximum depth tree: 205\n",
      "Number of nodes in best minimum split tree:: 314\n"
     ]
    }
   ],
   "source": [
    "print(f\"Number of nodes in best maximum depth tree: {count_nodes(tree_max_depth)}\")\n",
    "print(f\"Number of nodes in best minimum split tree:: {count_nodes(tree_min_samples_split)}\")\n"
   ]
  },
  {
   "cell_type": "markdown",
   "metadata": {},
   "source": [
    "## Print the tree\n",
    "\n",
    "Complete the function `print_tree`. Your tree should be visualized clearly. You can use the following example as a reference:\n",
    "```\n",
    "[ROOT, feature=X0],\n",
    "  [X0=a, feature=X2]\n",
    "    [X2=c, leaf]: [{1.0: 10}]\n",
    "    [X2=d, leaf]: [{0.0: 10}]\n",
    "  [X0=y, feature=X5], \n",
    "    [X5=a, leaf]: [{1.0: 5}]\n",
    "    [X5=s, leaf]: [{0.0: 10}]\n",
    "  [X0=e, leaf]: [{0.0: 25, 1.0: 50}]\n",
    "```\n",
    "In each brackets:\n",
    "* The first argument is the parent feature with the value that led to current node\n",
    "* The second argument is the selected feature of the current node\n",
    "* If the current node is a leaf, you need to print also the labels and their counts\n",
    "\n",
    "(5 points)"
   ]
  },
  {
   "cell_type": "code",
   "execution_count": 135,
   "metadata": {},
   "outputs": [],
   "source": [
    "features = data.columns.drop('class')\n",
    "# you can change the function signeture\n",
    "def print_tree(node, depth=0, parent_feature='ROOT', feature_val='ROOT'):\n",
    "    '''\n",
    "    prints the tree according to the example above\n",
    "\n",
    "    Input:\n",
    "    - node: a node in the decision tree\n",
    "\n",
    "    This function has no return value\n",
    "    '''\n",
    "    if node.feature=='leaf':\n",
    "        print(depth *' ' + f'[{features[node.parent]}={node.came_from}, leaf]: [{node.labels}]')\n",
    "    elif node == None:\n",
    "        return\n",
    "    elif node.parent == 'ROOT':\n",
    "        print(depth*\" \"+ f\"[{node.parent}, feature={features[node.feature]}],\")\n",
    "    else:\n",
    "        print(depth *' ' + f'[{features[node.parent]}={node.came_from}, feature={features[node.feature]}]')\n",
    "\n",
    "    for child in node.children.values():\n",
    "        print_tree(child, depth + 1)"
   ]
  },
  {
   "cell_type": "markdown",
   "metadata": {},
   "source": [
    "print the tree with the best test accuracy and with less than 50 nodes (from the two pruning methods)"
   ]
  },
  {
   "cell_type": "code",
   "execution_count": 136,
   "metadata": {},
   "outputs": [
    {
     "data": {
      "text/plain": [
       "[(<__main__.DecisionNode at 0x2178bd6be08>, 1, 1, 88.52781880846874),\n",
       " (<__main__.DecisionNode at 0x2178c6f4d88>, 1, 5, 88.52781880846874),\n",
       " (<__main__.DecisionNode at 0x2178c6e96c8>, 1, 10, 88.52781880846874),\n",
       " (<__main__.DecisionNode at 0x2178c6f82c8>, 1, 20, 88.52781880846874),\n",
       " (<__main__.DecisionNode at 0x2178c700308>, 1, 50, 88.28163466272771),\n",
       " (<__main__.DecisionNode at 0x2178c70c288>, 2, 1, 88.52781880846874),\n",
       " (<__main__.DecisionNode at 0x2178c70c948>, 2, 5, 88.52781880846874),\n",
       " (<__main__.DecisionNode at 0x2178c6f1988>, 2, 10, 88.52781880846874),\n",
       " (<__main__.DecisionNode at 0x2178c72e908>, 2, 20, 88.52781880846874),\n",
       " (<__main__.DecisionNode at 0x2178c71e4c8>, 2, 50, 88.28163466272771),\n",
       " (<__main__.DecisionNode at 0x2178bdac5c8>, 3, 50, 89.06942392909897)]"
      ]
     },
     "execution_count": 136,
     "metadata": {},
     "output_type": "execute_result"
    }
   ],
   "source": [
    "pruning_params = []\n",
    "for depth in [1, 2, 3, 4, 5, 6, 7, 8]:\n",
    "    for split in [1, 5, 10, 20, 50]:\n",
    "        tree = build_tree(X_train, calc_entropy, True, split, depth)\n",
    "        count = count_nodes(tree)\n",
    "        # get trees with less than 50 nodes\n",
    "        if count <= 50:\n",
    "            pruning_params.append((tree, depth, split, calc_accuracy(tree, X_test)))\n",
    "        \n",
    "pruning_params"
   ]
  },
  {
   "cell_type": "code",
   "execution_count": 137,
   "metadata": {},
   "outputs": [
    {
     "data": {
      "text/plain": [
       "(<__main__.DecisionNode at 0x2178bdac5c8>, 3, 50, 89.06942392909897)"
      ]
     },
     "execution_count": 137,
     "metadata": {},
     "output_type": "execute_result"
    }
   ],
   "source": [
    "best_tree = sorted(pruning_params, key=lambda x: x[3], reverse=True)[0]\n",
    "best_tree"
   ]
  },
  {
   "cell_type": "markdown",
   "metadata": {},
   "source": [
    "The best tree (with count nodes <= 50) has a maximum depth of 3 and minimum sample split of 50."
   ]
  },
  {
   "cell_type": "code",
   "execution_count": 138,
   "metadata": {},
   "outputs": [
    {
     "name": "stdout",
     "output_type": "stream",
     "text": [
      "[ROOT, feature=odor],\n",
      " [odor=a, feature=cap-color]\n",
      "  [cap-color=w, feature=gill-spacing]\n",
      "   [gill-spacing=c, leaf]: [{'e': 86, 'p': 7}]\n",
      "  [cap-color=y, feature=gill-spacing]\n",
      "   [gill-spacing=c, leaf]: [{'e': 121, 'p': 15}]\n",
      " [odor=c, feature=gill-spacing]\n",
      "  [gill-spacing=c, feature=population]\n",
      "  [gill-spacing=w, feature=cap-color]\n",
      " [odor=f, feature=stalk-surface-above-ring]\n",
      "  [stalk-surface-above-ring=f, feature=cap-color]\n",
      "  [stalk-surface-above-ring=k, feature=stalk-surface-below-ring]\n",
      "   [stalk-surface-below-ring=k, leaf]: [{'e': 118, 'p': 951}]\n",
      "   [stalk-surface-below-ring=s, leaf]: [{'e': 16, 'p': 86}]\n",
      "  [stalk-surface-above-ring=s, feature=population]\n",
      "   [population=s, leaf]: [{'e': 2, 'p': 55}]\n",
      "   [population=v, leaf]: [{'e': 20, 'p': 255}]\n",
      " [odor=l, feature=cap-surface]\n",
      "  [cap-surface=s, feature=cap-color]\n",
      "   [cap-color=w, leaf]: [{'e': 50, 'p': 11}]\n",
      "  [cap-surface=y, feature=habitat]\n",
      "   [habitat=g, leaf]: [{'e': 80, 'p': 7}]\n",
      " [odor=n, feature=gill-size]\n",
      "  [gill-size=b, feature=spore-print-color]\n",
      "   [spore-print-color=k, leaf]: [{'e': 843, 'p': 93}]\n",
      "   [spore-print-color=n, leaf]: [{'e': 882, 'p': 105}]\n",
      "   [spore-print-color=r, leaf]: [{'e': 6, 'p': 46}]\n",
      "   [spore-print-color=w, leaf]: [{'e': 369, 'p': 33}]\n",
      "  [gill-size=n, feature=bruises]\n",
      "   [bruises=f, leaf]: [{'e': 135, 'p': 50}]\n",
      " [odor=p, feature=cap-shape]\n",
      "  [cap-shape=f, feature=spore-print-color]\n",
      "  [cap-shape=x, feature=cap-surface]\n",
      " [odor=s, feature=stalk-color-below-ring]\n",
      "  [stalk-color-below-ring=p, feature=stalk-surface-below-ring]\n",
      "   [stalk-surface-below-ring=k, leaf]: [{'e': 8, 'p': 96}]\n",
      "   [stalk-surface-below-ring=s, leaf]: [{'e': 4, 'p': 94}]\n",
      "  [stalk-color-below-ring=w, feature=stalk-color-above-ring]\n",
      "   [stalk-color-above-ring=p, leaf]: [{'e': 18, 'p': 88}]\n",
      "   [stalk-color-above-ring=w, leaf]: [{'e': 8, 'p': 102}]\n",
      " [odor=y, feature=cap-surface]\n",
      "  [cap-surface=s, feature=cap-color]\n",
      "   [cap-color=e, leaf]: [{'e': 12, 'p': 93}]\n",
      "   [cap-color=n, leaf]: [{'e': 6, 'p': 101}]\n",
      "  [cap-surface=y, feature=stalk-color-above-ring]\n",
      "   [stalk-color-above-ring=p, leaf]: [{'e': 12, 'p': 91}]\n",
      "   [stalk-color-above-ring=w, leaf]: [{'e': 19, 'p': 97}]\n"
     ]
    }
   ],
   "source": [
    "print_tree(best_tree[0])"
   ]
  }
 ],
 "metadata": {
  "celltoolbar": "Create Assignment",
  "kernelspec": {
   "display_name": "Python 3",
   "language": "python",
   "name": "python3"
  },
  "language_info": {
   "codemirror_mode": {
    "name": "ipython",
    "version": 3
   },
   "file_extension": ".py",
   "mimetype": "text/x-python",
   "name": "python",
   "nbconvert_exporter": "python",
   "pygments_lexer": "ipython3",
   "version": "3.8.5"
  }
 },
 "nbformat": 4,
 "nbformat_minor": 4
}
